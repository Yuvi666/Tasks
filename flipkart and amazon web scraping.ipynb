{
 "cells": [
  {
   "cell_type": "code",
   "execution_count": 1,
   "id": "e285c8df",
   "metadata": {},
   "outputs": [
    {
     "name": "stdout",
     "output_type": "stream",
     "text": [
      "Requirement already satisfied: requests in c:\\users\\yuvraj\\anaconda3\\lib\\site-packages (2.31.0)\n",
      "Requirement already satisfied: beautifulsoup4 in c:\\users\\yuvraj\\anaconda3\\lib\\site-packages (4.12.2)\n",
      "Requirement already satisfied: pandas in c:\\users\\yuvraj\\anaconda3\\lib\\site-packages (2.0.3)\n",
      "Requirement already satisfied: openpyxl in c:\\users\\yuvraj\\anaconda3\\lib\\site-packages (3.0.10)\n",
      "Requirement already satisfied: charset-normalizer<4,>=2 in c:\\users\\yuvraj\\anaconda3\\lib\\site-packages (from requests) (2.0.4)\n",
      "Requirement already satisfied: idna<4,>=2.5 in c:\\users\\yuvraj\\anaconda3\\lib\\site-packages (from requests) (3.4)\n",
      "Requirement already satisfied: urllib3<3,>=1.21.1 in c:\\users\\yuvraj\\anaconda3\\lib\\site-packages (from requests) (1.26.16)\n",
      "Requirement already satisfied: certifi>=2017.4.17 in c:\\users\\yuvraj\\anaconda3\\lib\\site-packages (from requests) (2024.7.4)\n",
      "Requirement already satisfied: soupsieve>1.2 in c:\\users\\yuvraj\\anaconda3\\lib\\site-packages (from beautifulsoup4) (2.4)\n",
      "Requirement already satisfied: python-dateutil>=2.8.2 in c:\\users\\yuvraj\\anaconda3\\lib\\site-packages (from pandas) (2.8.2)\n",
      "Requirement already satisfied: pytz>=2020.1 in c:\\users\\yuvraj\\anaconda3\\lib\\site-packages (from pandas) (2023.3.post1)\n",
      "Requirement already satisfied: tzdata>=2022.1 in c:\\users\\yuvraj\\anaconda3\\lib\\site-packages (from pandas) (2023.3)\n",
      "Requirement already satisfied: numpy>=1.21.0 in c:\\users\\yuvraj\\anaconda3\\lib\\site-packages (from pandas) (1.24.3)\n",
      "Requirement already satisfied: et_xmlfile in c:\\users\\yuvraj\\anaconda3\\lib\\site-packages (from openpyxl) (1.1.0)\n",
      "Requirement already satisfied: six>=1.5 in c:\\users\\yuvraj\\anaconda3\\lib\\site-packages (from python-dateutil>=2.8.2->pandas) (1.16.0)\n",
      "Note: you may need to restart the kernel to use updated packages.\n"
     ]
    }
   ],
   "source": [
    "pip install requests beautifulsoup4 pandas openpyxl\n"
   ]
  },
  {
   "cell_type": "code",
   "execution_count": 2,
   "id": "d95607a0",
   "metadata": {},
   "outputs": [],
   "source": [
    "import requests\n",
    "from bs4 import BeautifulSoup\n",
    "import pandas as pd\n"
   ]
  },
  {
   "cell_type": "code",
   "execution_count": 3,
   "id": "c2b54cc5",
   "metadata": {},
   "outputs": [],
   "source": [
    "headers = {\n",
    "\"Mozilla/5.0 (Windows NT 10.0; Win64; x64) AppleWebKit/537.36 (KHTML, like Gecko) Chrome/126.0.0.0 Safari/537.36\"    \"Accept-Language\": \"en-US, en;q=0.5\"\n",
    "}\n",
    "\n",
    "query = \"laptop\"  # Replace with your search query\n"
   ]
  },
  {
   "cell_type": "code",
   "execution_count": 4,
   "id": "fbfff451",
   "metadata": {},
   "outputs": [
    {
     "name": "stdout",
     "output_type": "stream",
     "text": [
      "Amazon Data: [{'Name': 'HP Laptop 15s, 12th Gen Intel Core i3, 15.6-inch (39.6 cm), 8GB DDR4, 512GB SSD, Thin & Light, Dual Speakers (Win 11, MSO 2021, Silver, 1.69 kg), fq5007TU / FQ5327TU', 'Price': '35999', 'Rating': '4.0 out of 5 stars'}, {'Name': 'Acer Aspire Lite 12th Gen Intel Core i3-1215U Premium Metal Laptop (Windows 11 Home/8 GB RAM/512GB SSD) AL15-52, 39.62cm (15.6\") Full HD Display, Metal Body, Steel Gray, 1.59 Kg', 'Price': '29990', 'Rating': '4.0 out of 5 stars'}, {'Name': 'HP Laptop 15s, AMD Ryzen 3 5300U, 15.6-inch (39.6 cm), FHD, 8GB DDR4, 512GB SSD, AMD Radeon graphics, Thin & light, Dual speakers (Win 11, MSO 2019, Silver, 1.69 kg), eq2143AU', 'Price': '29990', 'Rating': '4.1 out of 5 stars'}, {'Name': 'Dell [Smartchoice] 15 Thin & Light Laptop, 12th Gen Intel Core i3-1215U Processor/8GB/512GB SSD/Intel UHD Graphics/15.6\"(39.62cm) FHD/Windows 11 + MSO\\'21/15 Month McAfee/Spill-Resistant KB/Grey/1.48kg', 'Price': '35990', 'Rating': '3.7 out of 5 stars'}, {'Name': 'HP Laptop 15s, 12th Gen Intel Core i5-1235U, 15.6-inch (39.6 cm), FHD, 16GB DDR4, 512GB SSD, Intel Iris Xe graphics, Backlit KB,MSO,Thin & Light, Dual speakers (Win 11, Silver, 1.69 kg), fq5330TU', 'Price': '49990', 'Rating': '4.0 out of 5 stars'}, {'Name': 'HP Laptop 15s, 12th Gen Intel Core i5-1235U, 15.6-inch (39.6 cm), FHD, 16GB DDR4, 512GB SSD, Intel Iris Xe graphics, 720p HD camera, Backlit KB, Thin & Light (Win 11, Silver, 1.69 kg), fy5009TU', 'Price': '50990', 'Rating': '4.1 out of 5 stars'}, {'Name': 'Dell 14 Thin & Light Laptop, 12th Gen Intel Core i3-1215U Processor/8GB/512GB SSD/Intel UHD Graphics/14.0\"(35.56cm) FHD/Windows 11 + MSO\\'21/15 Month McAfee/Spill-Resistant Keyboard/Grey/1.48kg', 'Price': '34990', 'Rating': '3.7 out of 5 stars'}, {'Name': 'HP Laptop 15,12th Gen Intel Core i3-1215U,15.6 inch(39.6 cm),FHD,Anti-Glare,8 GB DDR4,512 GB SSD,Windows 11,MSO,Dual Speakers,1.69 kg,Natural Silver,15s-fq5326TU', 'Price': '35490', 'Rating': '4.1 out of 5 stars'}, {'Name': 'Acer Aspire Lite AMD Ryzen 5 5500U Premium Thin and Light Laptop (16 GB RAM/512 GB SSD/Windows 11 Home) AL15-41, 39.62 cm (15.6\") Full HD Display, Metal Body, Steel Gray, 1.59 KG', 'Price': '33999', 'Rating': '3.9 out of 5 stars'}, {'Name': 'HP Laptop 15s, AMD Ryzen 5 5500U, 15.6-inch (39.6 cm), FHD, 16GB DDR4, 512GB SSD, AMD Radeon graphics, 720p HD camera, Backlit KB, Thin & Light (Win 11, MSO 2021, Silver, 1.69 kg), eq2182AU', 'Price': '40990', 'Rating': '4.0 out of 5 stars'}, {'Name': 'HP Laptop 15, 13th Gen Intel Core i5-1334U, 15.6-inch (39.6 cm), FHD, 16GB DDR4, 512GB SSD, Intel Iris Xe graphics, Backlit KB, MSO, Dual speakers (Win 11, Silver, 1.59 kg), fd0221TU', 'Price': '56390', 'Rating': '3.9 out of 5 stars'}, {'Name': 'Lenovo IdeaPad Slim 3 12th Gen Intel Core i5-12450H 14\" (35.5cm) FHD 250 Nits Thin & Light Laptop (16GB/512GB SSD/Win 11/Office 21/1Yr ADP Free/Alexa built-in/3 mon. Game Pass/Grey/1.37Kg), 83EQ005VIN', 'Price': '52890', 'Rating': '4.0 out of 5 stars'}, {'Name': 'Acer Aspire Lite 12th Gen Intel Core i5-1235U Thin and Light Laptop (Windows 11 Home/16GB RAM/512GB SSD/Intel Iris Xe Graphics) AL15-52, 39.62cm (15.6\") Full HD Display, Metal Body, Steel Gray, 1.6 KG', 'Price': '40999', 'Rating': '3.8 out of 5 stars'}]\n"
     ]
    }
   ],
   "source": [
    "def scrape_amazon(query):\n",
    "    url = f\"https://www.amazon.in/s?k={query}\"\n",
    "    response = requests.get(url, headers=headers)\n",
    "    soup = BeautifulSoup(response.content, 'html.parser')\n",
    "\n",
    "    products = []\n",
    "    for item in soup.select('.s-main-slot .s-result-item'):\n",
    "        name = item.select_one('h2 .a-link-normal')\n",
    "        price = item.select_one('.a-price-whole')\n",
    "        rating = item.select_one('.a-icon-alt')\n",
    "\n",
    "        if name:\n",
    "            name = name.get_text(strip=True)\n",
    "        if price:\n",
    "            price = price.get_text(strip=True).replace(',', '')\n",
    "        if rating:\n",
    "            rating = rating.get_text(strip=True)\n",
    "\n",
    "        if name and price and rating:\n",
    "            products.append({\n",
    "                'Name': name,\n",
    "                'Price': price,\n",
    "                'Rating': rating\n",
    "            })\n",
    "\n",
    "    return products\n",
    "\n",
    "amazon_data = scrape_amazon(query)\n",
    "print(\"Amazon Data:\", amazon_data)  # Display results\n",
    "  # Display first 5 results\n"
   ]
  },
  {
   "cell_type": "code",
   "execution_count": 5,
   "id": "0e7474d3",
   "metadata": {},
   "outputs": [
    {
     "name": "stdout",
     "output_type": "stream",
     "text": [
      "Flipkart Data: []\n"
     ]
    }
   ],
   "source": [
    "def scrape_flipkart(query):\n",
    "    url = f\"https://www.flipkart.com/search?q={query}\"\n",
    "    response = requests.get(url, headers=headers)\n",
    "    soup = BeautifulSoup(response.content, 'html.parser')\n",
    "\n",
    "    products = []\n",
    "    for item in soup.select('._1AtVbE'):\n",
    "        name = item.select_one('._4rR01T')\n",
    "        price = item.select_one('._30jeq3._1_WHN1')\n",
    "        rating = item.select_one('._3LWZlK')\n",
    "\n",
    "        if name:\n",
    "            name = name.get_text(strip=True)\n",
    "        if price:\n",
    "            price = price.get_text(strip=True).replace('₹', '').replace(',', '')\n",
    "        if rating:\n",
    "            rating = rating.get_text(strip=True)\n",
    "\n",
    "        if name and price and rating:\n",
    "            products.append({\n",
    "                'Name': name,\n",
    "                'Price': price,\n",
    "                'Rating': rating\n",
    "            })\n",
    "\n",
    "    return products\n",
    "\n",
    "flipkart_data = scrape_flipkart(query)\n",
    "print(\"Flipkart Data:\", flipkart_data)  # Display results\n",
    "\n"
   ]
  },
  {
   "cell_type": "code",
   "execution_count": 6,
   "id": "d95a9b29",
   "metadata": {},
   "outputs": [
    {
     "name": "stdout",
     "output_type": "stream",
     "text": [
      "Data has been saved to product_details.xlsx\n"
     ]
    }
   ],
   "source": [
    "all_data = amazon_data + flipkart_data\n",
    "\n",
    "def save_to_excel(data, filename):\n",
    "    df = pd.DataFrame(data)\n",
    "    df.to_excel(filename, index=False)\n",
    "\n",
    "save_to_excel(all_data, 'product_details.xlsx')\n",
    "print(\"Data has been saved to product_details.xlsx\")\n"
   ]
  },
  {
   "cell_type": "code",
   "execution_count": 7,
   "id": "92206d15",
   "metadata": {},
   "outputs": [
    {
     "data": {
      "text/plain": [
       "[{'Name': 'HP Laptop 15s, 12th Gen Intel Core i3, 15.6-inch (39.6 cm), 8GB DDR4, 512GB SSD, Thin & Light, Dual Speakers (Win 11, MSO 2021, Silver, 1.69 kg), fq5007TU / FQ5327TU',\n",
       "  'Price': '35999',\n",
       "  'Rating': '4.0 out of 5 stars'},\n",
       " {'Name': 'Acer Aspire Lite 12th Gen Intel Core i3-1215U Premium Metal Laptop (Windows 11 Home/8 GB RAM/512GB SSD) AL15-52, 39.62cm (15.6\") Full HD Display, Metal Body, Steel Gray, 1.59 Kg',\n",
       "  'Price': '29990',\n",
       "  'Rating': '4.0 out of 5 stars'},\n",
       " {'Name': 'HP Laptop 15s, AMD Ryzen 3 5300U, 15.6-inch (39.6 cm), FHD, 8GB DDR4, 512GB SSD, AMD Radeon graphics, Thin & light, Dual speakers (Win 11, MSO 2019, Silver, 1.69 kg), eq2143AU',\n",
       "  'Price': '29990',\n",
       "  'Rating': '4.1 out of 5 stars'},\n",
       " {'Name': 'Dell [Smartchoice] 15 Thin & Light Laptop, 12th Gen Intel Core i3-1215U Processor/8GB/512GB SSD/Intel UHD Graphics/15.6\"(39.62cm) FHD/Windows 11 + MSO\\'21/15 Month McAfee/Spill-Resistant KB/Grey/1.48kg',\n",
       "  'Price': '35990',\n",
       "  'Rating': '3.7 out of 5 stars'},\n",
       " {'Name': 'HP Laptop 15s, 12th Gen Intel Core i5-1235U, 15.6-inch (39.6 cm), FHD, 16GB DDR4, 512GB SSD, Intel Iris Xe graphics, Backlit KB,MSO,Thin & Light, Dual speakers (Win 11, Silver, 1.69 kg), fq5330TU',\n",
       "  'Price': '49990',\n",
       "  'Rating': '4.0 out of 5 stars'},\n",
       " {'Name': 'HP Laptop 15s, 12th Gen Intel Core i5-1235U, 15.6-inch (39.6 cm), FHD, 16GB DDR4, 512GB SSD, Intel Iris Xe graphics, 720p HD camera, Backlit KB, Thin & Light (Win 11, Silver, 1.69 kg), fy5009TU',\n",
       "  'Price': '50990',\n",
       "  'Rating': '4.1 out of 5 stars'},\n",
       " {'Name': 'Dell 14 Thin & Light Laptop, 12th Gen Intel Core i3-1215U Processor/8GB/512GB SSD/Intel UHD Graphics/14.0\"(35.56cm) FHD/Windows 11 + MSO\\'21/15 Month McAfee/Spill-Resistant Keyboard/Grey/1.48kg',\n",
       "  'Price': '34990',\n",
       "  'Rating': '3.7 out of 5 stars'},\n",
       " {'Name': 'HP Laptop 15,12th Gen Intel Core i3-1215U,15.6 inch(39.6 cm),FHD,Anti-Glare,8 GB DDR4,512 GB SSD,Windows 11,MSO,Dual Speakers,1.69 kg,Natural Silver,15s-fq5326TU',\n",
       "  'Price': '35490',\n",
       "  'Rating': '4.1 out of 5 stars'},\n",
       " {'Name': 'Acer Aspire Lite AMD Ryzen 5 5500U Premium Thin and Light Laptop (16 GB RAM/512 GB SSD/Windows 11 Home) AL15-41, 39.62 cm (15.6\") Full HD Display, Metal Body, Steel Gray, 1.59 KG',\n",
       "  'Price': '33999',\n",
       "  'Rating': '3.9 out of 5 stars'},\n",
       " {'Name': 'HP Laptop 15s, AMD Ryzen 5 5500U, 15.6-inch (39.6 cm), FHD, 16GB DDR4, 512GB SSD, AMD Radeon graphics, 720p HD camera, Backlit KB, Thin & Light (Win 11, MSO 2021, Silver, 1.69 kg), eq2182AU',\n",
       "  'Price': '40990',\n",
       "  'Rating': '4.0 out of 5 stars'},\n",
       " {'Name': 'HP Laptop 15, 13th Gen Intel Core i5-1334U, 15.6-inch (39.6 cm), FHD, 16GB DDR4, 512GB SSD, Intel Iris Xe graphics, Backlit KB, MSO, Dual speakers (Win 11, Silver, 1.59 kg), fd0221TU',\n",
       "  'Price': '56390',\n",
       "  'Rating': '3.9 out of 5 stars'},\n",
       " {'Name': 'Lenovo IdeaPad Slim 3 12th Gen Intel Core i5-12450H 14\" (35.5cm) FHD 250 Nits Thin & Light Laptop (16GB/512GB SSD/Win 11/Office 21/1Yr ADP Free/Alexa built-in/3 mon. Game Pass/Grey/1.37Kg), 83EQ005VIN',\n",
       "  'Price': '52890',\n",
       "  'Rating': '4.0 out of 5 stars'},\n",
       " {'Name': 'Acer Aspire Lite 12th Gen Intel Core i5-1235U Thin and Light Laptop (Windows 11 Home/16GB RAM/512GB SSD/Intel Iris Xe Graphics) AL15-52, 39.62cm (15.6\") Full HD Display, Metal Body, Steel Gray, 1.6 KG',\n",
       "  'Price': '40999',\n",
       "  'Rating': '3.8 out of 5 stars'}]"
      ]
     },
     "execution_count": 7,
     "metadata": {},
     "output_type": "execute_result"
    }
   ],
   "source": [
    "all_data"
   ]
  },
  {
   "cell_type": "code",
   "execution_count": null,
   "id": "8f53eedf",
   "metadata": {},
   "outputs": [],
   "source": []
  }
 ],
 "metadata": {
  "kernelspec": {
   "display_name": "Python 3 (ipykernel)",
   "language": "python",
   "name": "python3"
  },
  "language_info": {
   "codemirror_mode": {
    "name": "ipython",
    "version": 3
   },
   "file_extension": ".py",
   "mimetype": "text/x-python",
   "name": "python",
   "nbconvert_exporter": "python",
   "pygments_lexer": "ipython3",
   "version": "3.11.5"
  }
 },
 "nbformat": 4,
 "nbformat_minor": 5
}
